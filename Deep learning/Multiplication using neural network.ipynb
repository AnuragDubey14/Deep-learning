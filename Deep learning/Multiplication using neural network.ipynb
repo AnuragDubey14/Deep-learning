{
 "cells": [
  {
   "cell_type": "code",
   "execution_count": 1,
   "id": "0db35147",
   "metadata": {},
   "outputs": [],
   "source": [
    "import numpy as np, random, os, math"
   ]
  },
  {
   "cell_type": "code",
   "execution_count": 2,
   "id": "fc62727c",
   "metadata": {},
   "outputs": [],
   "source": [
    "lr = 0.002   #Learning rate\n",
    "bias = 0.8\n",
    "weights = [random.random(),random.random(), random.random()]\n",
    "# weights generated in a list (3 weights in total for 2 neurons and 1 bias)"
   ]
  },
  {
   "cell_type": "code",
   "execution_count": 3,
   "id": "d21d63e4",
   "metadata": {},
   "outputs": [],
   "source": [
    "def perceptron(input1,input2,output):\n",
    "    outputP=input1 * weights[0] +input2 * weights[1] + bias *   weights[2]\n",
    "    error = output - outputP\n",
    "    weights[0] += error * input1 * lr\n",
    "    weights[1] +=error * input2 * lr\n",
    "    weights[2] += error * bias * lr\n",
    "    \n",
    "    "
   ]
  },
  {
   "cell_type": "code",
   "execution_count": 4,
   "id": "6e5d5ff8",
   "metadata": {},
   "outputs": [],
   "source": [
    "\n",
    "epoch = 9500\n",
    "for i in range(epoch):\n",
    "    input1=random.randint(0,9)\n",
    "    input2=random.randint(0,9)\n",
    "    output=input1*input2\n",
    "    perceptron(input1,input2,output)"
   ]
  },
  {
   "cell_type": "code",
   "execution_count": 5,
   "id": "757005fb",
   "metadata": {},
   "outputs": [
    {
     "name": "stdout",
     "output_type": "stream",
     "text": [
      "RMSE: 8.00\n"
     ]
    }
   ],
   "source": [
    "error = []\n",
    "for i in range(100):\n",
    "    input1=random.randint(0,9)\n",
    "    input2=random.randint(0,9)\n",
    "    output=input1*input2\n",
    "    outputP = input1 * weights[0] + input2*weights[1] + bias*weights[2]\n",
    "    error.append((output - outputP) ** 2)\n",
    "mean_squared_error = np.mean(error)\n",
    "rmse = math.sqrt(mean_squared_error)\n",
    "\n",
    "print(f\"RMSE: {rmse:.2f}\")"
   ]
  },
  {
   "cell_type": "code",
   "execution_count": null,
   "id": "1b4968e5",
   "metadata": {},
   "outputs": [],
   "source": []
  },
  {
   "cell_type": "code",
   "execution_count": null,
   "id": "ba7bf9b8",
   "metadata": {},
   "outputs": [],
   "source": []
  }
 ],
 "metadata": {
  "kernelspec": {
   "display_name": "Python 3 (ipykernel)",
   "language": "python",
   "name": "python3"
  },
  "language_info": {
   "codemirror_mode": {
    "name": "ipython",
    "version": 3
   },
   "file_extension": ".py",
   "mimetype": "text/x-python",
   "name": "python",
   "nbconvert_exporter": "python",
   "pygments_lexer": "ipython3",
   "version": "3.11.1"
  }
 },
 "nbformat": 4,
 "nbformat_minor": 5
}
