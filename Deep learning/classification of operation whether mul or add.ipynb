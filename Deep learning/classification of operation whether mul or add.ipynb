{
 "cells": [
  {
   "cell_type": "code",
   "execution_count": 1,
   "id": "48cc77fb",
   "metadata": {},
   "outputs": [],
   "source": [
    "import numpy as np, random, os, math"
   ]
  },
  {
   "cell_type": "code",
   "execution_count": 2,
   "id": "42e7444d",
   "metadata": {},
   "outputs": [],
   "source": [
    "lr = 0.0001   #Learning rate\n",
    "bias = 1\n",
    "weights = [random.random(),random.random(), random.random(), random.random()]\n",
    "# weights generated in a list (3 weights in total for 2 neurons and 1 bias)"
   ]
  },
  {
   "cell_type": "code",
   "execution_count": 6,
   "id": "31d83bca",
   "metadata": {},
   "outputs": [],
   "source": [
    "def perceptron(input1,input2,input3,output):\n",
    "    outputP=input1 * weights[0] +input2 * weights[1] + input3 *   weights[2]+bias*weights[3]\n",
    "    if outputP > 0: outputP = 1\n",
    "    else          : outputP = 0\n",
    "    error = output - outputP\n",
    "    weights[0] += error * input1 * lr\n",
    "    weights[1] +=error * input2 * lr\n",
    "    weights[2] += error * bias * lr\n",
    "    weights[3] +=error * bias * lr\n",
    "    "
   ]
  },
  {
   "cell_type": "code",
   "execution_count": 7,
   "id": "9a4faf45",
   "metadata": {},
   "outputs": [],
   "source": [
    "def add(x,y):\n",
    "    return x+y\n",
    "def mul(x,y):\n",
    "    return x*y\n"
   ]
  },
  {
   "cell_type": "code",
   "execution_count": 8,
   "id": "1dd841bf",
   "metadata": {},
   "outputs": [],
   "source": [
    "d={1:add,0:mul}\n",
    "l=[]\n",
    "def neural_input():\n",
    "    input1=random.randint(0,10000)\n",
    "    input2=random.randint(0,10000)\n",
    "    o=random.choice(list(d.keys()))\n",
    "    z=d[o](input1,input2)\n",
    "    if [input1,input2,o] in l:\n",
    "        return neural_input()\n",
    "    else:\n",
    "        l.append([input1,input2,o])\n",
    "        return input1,input2,z,o"
   ]
  },
  {
   "cell_type": "code",
   "execution_count": 9,
   "id": "070cf18a",
   "metadata": {},
   "outputs": [],
   "source": [
    "\n",
    "epoch = 10000\n",
    "for i in range(epoch):\n",
    "    input1,input2,input3,output=neural_input()\n",
    "    perceptron(input1,input2,input3,output)"
   ]
  },
  {
   "cell_type": "code",
   "execution_count": 10,
   "id": "fa97fc3f",
   "metadata": {},
   "outputs": [
    {
     "name": "stdout",
     "output_type": "stream",
     "text": [
      "RMSE: 331.10\n"
     ]
    }
   ],
   "source": [
    "error = []\n",
    "for i in range(100):\n",
    "    input1=random.randint(0,9)\n",
    "    input2=random.randint(0,9)\n",
    "    output=input1*input2\n",
    "    outputP = input1 * weights[0] + input2*weights[1] + bias*weights[2]\n",
    "    error.append((output - outputP) ** 2)\n",
    "mean_squared_error = np.mean(error)\n",
    "rmse = math.sqrt(mean_squared_error)\n",
    "\n",
    "print(f\"RMSE: {rmse:.2f}\")"
   ]
  },
  {
   "cell_type": "code",
   "execution_count": null,
   "id": "a3742f81",
   "metadata": {},
   "outputs": [],
   "source": []
  }
 ],
 "metadata": {
  "kernelspec": {
   "display_name": "Python 3 (ipykernel)",
   "language": "python",
   "name": "python3"
  },
  "language_info": {
   "codemirror_mode": {
    "name": "ipython",
    "version": 3
   },
   "file_extension": ".py",
   "mimetype": "text/x-python",
   "name": "python",
   "nbconvert_exporter": "python",
   "pygments_lexer": "ipython3",
   "version": "3.11.1"
  }
 },
 "nbformat": 4,
 "nbformat_minor": 5
}
